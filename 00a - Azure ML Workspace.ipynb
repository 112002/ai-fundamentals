{
 "cells": [
  {
   "cell_type": "markdown",
   "metadata": {},
   "source": [
    "# Get Started with Azure Machine Learning\n",
    "\n",
    "Azure Machine Learning is a cloud-based service in Microsoft Azure for creating and managing machine learning solutions.\n",
    "\n",
    "## Create a Workspace\n",
    "\n",
    "To use Azure Machine Learning, you create a *workspace* in your Azure subscription. You can then use this workspace to manage data, compute resources, code, models, and other artifacts related to your machine learning workloads.\n",
    "\n",
    "1. Sign into the [Azure portal](https://portal.azure.com) using the Microsoft account associated with your Azure subscription.\n",
    "2. Select **&#65291;Create a resource**, search for *Machine Learning*, and create a new **Machine Learning** resource the following settings:\n",
    "    - **Workspace Name**: *A unique name of your choice*\n",
    "    - **Subscription**: *Your Azure subscription*\n",
    "    - **Resource group**: *Create a new resource group with a unique name*\n",
    "    - **Location**: *Choose any available location*\n",
    "    - **Workspace edition**: Enterprise\n",
    "3. Wait for your workspace resource to be created (it can take a few minutes). Then go to it in the portal.\n",
    "4. On the **Overview** page for your workspace, launch Azure Machine Learning studio (or open a new browser tab and navigate to [https://ml.azure.com](https://ml.azure.com)), and sign into Azure Machine Learning studio using your Microsoft account. If prompted, select the workspace and resource group you created in step 2.\n",
    "\n",
    "> **Note**: You can manage your workspace using the Azure portal, but for data scientists and Machine Learning operations engineers, Azure Machine Learning studio provides a more focused user interface for managing workspace resources.\n",
    "\n",
    "## Create Compute Targets\n",
    "\n",
    "To train and deploy models using Azure Machine Learning designer, you need compute on which to run the training process, test the model, and host the model in a deployed service.\n",
    "\n",
    "1. In [Azure Machine Learning studio](https://ml.azure.com), view the **Compute** page (under **Manage**). This is where you manage the compute targets for your data science activities. There are four kinds of compute resource you can create:\n",
    "    - **Compute Instances**: Development workstations that data scientists can use to work with data and models.\n",
    "    - **Compute Clusters**: Scalable clusters of virtual machines for on-demand processing of experiment code.\n",
    "    - **Inference Clusters**: Deployment targets for predictive services that use your trained models.\n",
    "    - **Attached Compute**: Links to existing Azure compute resources, such as Virtual Machines or Azure Databricks clusters.\n",
    "2. While the compute instance is being created, switch to the **Compute Clusters** tab, and add a new compute cluster with the following settings. You'll use this to train a machine learning model:\n",
    "    - **Compute name**: aml-cluster\n",
    "    - **Virtual Machine type**: CPU\n",
    "    - **Virtual Machine priority**: Dedicated\n",
    "    - **Virtual Machine size**: Standard_DS2_v2\n",
    "    - **Minimum number of nodes**: 2\n",
    "    - **Maximum number of nodes**: 2\n",
    "    - **Idle seconds before scale down**: 120\n",
    "3. While the compute cluster is being created, on the **Inference Clusters** tab, add a new cluster with the following settings. You'll use this to deploy your model as a service.\n",
    "    * **Compute name**: aks-cluster\n",
    "    * **Kubernetes Service**: Create new\n",
    "    * **Region**: *Select any available region*\n",
    "    * **Virtual Machine size**: Standard_DS2_v2 (*If this is not available in the selected region, change the region selection*)\n",
    "    * **Cluster purpose**: Dev-test\n",
    "    * **Number of nodes**: 3\n",
    "    * **Network configuration**: Basic\n",
    "    * **Enable SSL configuration**: Unselected\n",
    "4. Verify that the inference cluster is in the *Creating* state - it will take a while to be created, so leave it for now.\n",
    "\n",
    "> **Note**: In a production environment, you'd typically set the **minimum number of nodes** value for a compute cluster to 0 so that compute is only started when it is needed. However, compute can take a while to start, so to reduce the amount of time you spend waiting for it in this module, you've initialized it with two permanently running nodes.\n",
    ">\n",
    "> If you decide not to complete the next two labs, edit the compute cluster to reset the minimum number of nodes to 0, and delete the inference cluster in order to avoid leaving your compute running and incurring unnecessary charges to your Azure subscription. Alternatively, if you're finished exploring Azure Machine Learning, delete the entire resource group in your Azure subscription."
   ]
  }
 ],
 "metadata": {
  "language_info": {
   "codemirror_mode": {
    "name": "ipython",
    "version": 3
   },
   "file_extension": ".py",
   "mimetype": "text/x-python",
   "name": "python",
   "nbconvert_exporter": "python",
   "pygments_lexer": "ipython3",
   "version": 3
  },
  "orig_nbformat": 2
 },
 "nbformat": 4,
 "nbformat_minor": 2
}